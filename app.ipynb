{
 "cells": [
  {
   "cell_type": "code",
   "execution_count": 26,
   "metadata": {},
   "outputs": [],
   "source": [
    "import numpy as np\n",
    "import tensorflow as tf\n",
    "from tensorflow.keras.datasets import mnist\n",
    "from tensorflow.keras.models import Sequential\n",
    "from tensorflow.keras.layers import Conv2D, MaxPooling2D, Flatten, Dense, Dropout\n",
    "from tensorflow.keras.utils import to_categorical\n",
    "import matplotlib.pyplot as plt"
   ]
  },
  {
   "attachments": {},
   "cell_type": "markdown",
   "metadata": {},
   "source": [
    "Convolutional Neural Networks expect input data to be in the form of 4D tensors:\n",
    "(num_samples, height, width, channels)\n",
    "\n",
    "In MNIST, each image is a 28 X 28 grayscale image\n",
    "\n",
    "In grayscale images, number of channels is 1\n",
    "\n",
    "We are also one-hot encoding each pixel of the data, which is done by the to_categorical function"
   ]
  },
  {
   "cell_type": "code",
   "execution_count": 27,
   "metadata": {},
   "outputs": [],
   "source": [
    "(X_train, y_train), (X_test, y_test) = mnist.load_data()\n",
    "X_train = X_train.reshape(-1, 28, 28, 1) / 255.0\n",
    "X_test = X_test.reshape(-1, 28, 28, 1) / 255.0\n",
    "y_train = to_categorical(y_train)\n",
    "y_test = to_categorical(y_test)"
   ]
  },
  {
   "cell_type": "code",
   "execution_count": 28,
   "metadata": {},
   "outputs": [],
   "source": [
    "model = Sequential()\n",
    "model.add(Conv2D(32, (3, 3), activation='relu', input_shape=(28, 28, 1)))\n",
    "model.add(MaxPooling2D(2, 2))\n",
    "model.add(Conv2D(64, (3, 3), activation='relu'))\n",
    "model.add(MaxPooling2D(2, 2))\n",
    "model.add(Conv2D(64, (3, 3), activation='relu'))\n",
    "model.add(Flatten())\n",
    "model.add(Dense(64, activation='relu'))\n",
    "model.add(Dropout(0.5))\n",
    "model.add(Dense(10, activation='softmax'))"
   ]
  },
  {
   "cell_type": "code",
   "execution_count": 29,
   "metadata": {},
   "outputs": [],
   "source": [
    "model.compile(optimizer='adam', loss='categorical_crossentropy', metrics=['accuracy'])"
   ]
  },
  {
   "cell_type": "code",
   "execution_count": 30,
   "metadata": {},
   "outputs": [
    {
     "name": "stdout",
     "output_type": "stream",
     "text": [
      "Train on 60000 samples, validate on 10000 samples\n",
      "Epoch 1/10\n",
      "60000/60000 [==============================] - 137s 2ms/sample - loss: 0.2994 - accuracy: 0.9075 - val_loss: 0.0524 - val_accuracy: 0.9832\n",
      "Epoch 2/10\n",
      "60000/60000 [==============================] - 125s 2ms/sample - loss: 0.0967 - accuracy: 0.9720 - val_loss: 0.0349 - val_accuracy: 0.9871\n",
      "Epoch 3/10\n",
      "60000/60000 [==============================] - 120s 2ms/sample - loss: 0.0715 - accuracy: 0.9797 - val_loss: 0.0370 - val_accuracy: 0.9884\n",
      "Epoch 4/10\n",
      "60000/60000 [==============================] - 123s 2ms/sample - loss: 0.0560 - accuracy: 0.9841 - val_loss: 0.0284 - val_accuracy: 0.9908\n",
      "Epoch 5/10\n",
      "60000/60000 [==============================] - 120s 2ms/sample - loss: 0.0453 - accuracy: 0.9870 - val_loss: 0.0289 - val_accuracy: 0.9910\n",
      "Epoch 6/10\n",
      "60000/60000 [==============================] - 120s 2ms/sample - loss: 0.0408 - accuracy: 0.9883 - val_loss: 0.0251 - val_accuracy: 0.9913\n",
      "Epoch 7/10\n",
      "60000/60000 [==============================] - 121s 2ms/sample - loss: 0.0341 - accuracy: 0.9903 - val_loss: 0.0243 - val_accuracy: 0.9925\n",
      "Epoch 8/10\n",
      "60000/60000 [==============================] - 127s 2ms/sample - loss: 0.0293 - accuracy: 0.9914 - val_loss: 0.0255 - val_accuracy: 0.9935\n",
      "Epoch 9/10\n",
      "60000/60000 [==============================] - 122s 2ms/sample - loss: 0.0265 - accuracy: 0.9924 - val_loss: 0.0246 - val_accuracy: 0.9927\n",
      "Epoch 10/10\n",
      "60000/60000 [==============================] - 119s 2ms/sample - loss: 0.0225 - accuracy: 0.9933 - val_loss: 0.0245 - val_accuracy: 0.9933\n"
     ]
    }
   ],
   "source": [
    "history = model.fit(X_train, y_train, epochs=10, batch_size=64, validation_data=(X_test, y_test))\n"
   ]
  },
  {
   "cell_type": "code",
   "execution_count": 31,
   "metadata": {},
   "outputs": [
    {
     "name": "stdout",
     "output_type": "stream",
     "text": [
      "Test accuracy: 99.33%\n"
     ]
    }
   ],
   "source": [
    "loss, accuracy = model.evaluate(X_test, y_test, verbose=0)\n",
    "print(f'Test accuracy: {accuracy*100:.2f}%')"
   ]
  },
  {
   "cell_type": "code",
   "execution_count": 33,
   "metadata": {},
   "outputs": [
    {
     "data": {
      "text/plain": [
       "array([[1.2205565e-18, 2.7901611e-14, 2.5127365e-14, ..., 1.0000000e+00,\n",
       "        5.9505682e-15, 5.0651860e-10],\n",
       "       [3.5145413e-12, 5.1683102e-10, 1.0000000e+00, ..., 1.1187824e-10,\n",
       "        2.5877409e-10, 6.6635777e-14],\n",
       "       [2.6375877e-19, 1.0000000e+00, 3.1864425e-13, ..., 1.1724180e-10,\n",
       "        6.8017006e-13, 1.8174676e-14],\n",
       "       ...,\n",
       "       [1.1336154e-21, 3.8022730e-14, 1.1742552e-15, ..., 1.9793554e-14,\n",
       "        6.6888969e-13, 9.2400995e-14],\n",
       "       [9.1186707e-16, 1.6528466e-13, 3.2770336e-16, ..., 5.1726105e-17,\n",
       "        3.3763456e-06, 1.0891894e-12],\n",
       "       [2.1374418e-17, 1.4260908e-15, 8.8925349e-18, ..., 6.9043722e-22,\n",
       "        4.1994772e-14, 5.4437071e-19]], dtype=float32)"
      ]
     },
     "execution_count": 33,
     "metadata": {},
     "output_type": "execute_result"
    }
   ],
   "source": [
    "predictions = model.predict(X_test)\n",
    "predictions"
   ]
  },
  {
   "cell_type": "code",
   "execution_count": 34,
   "metadata": {},
   "outputs": [
    {
     "data": {
      "image/png": "[encoded data removed]",
      "text/plain": [
       "<Figure size 640x480 with 1 Axes>"
      ]
     },
     "metadata": {},
     "output_type": "display_data"
    }
   ],
   "source": [
    "plt.plot(history.history['loss'])\n",
    "plt.plot(history.history['val_loss'])\n",
    "plt.title('Model Loss')\n",
    "plt.ylabel('Loss')\n",
    "plt.xlabel('Epochs')\n",
    "plt.legend(['Train', 'Validation'], loc='upper right')\n",
    "plt.show()"
   ]
  },
  {
   "cell_type": "code",
   "execution_count": null,
   "metadata": {},
   "outputs": [],
   "source": []
  }
 ],
 "metadata": {
  "kernelspec": {
   "display_name": "tensor-env",
   "language": "python",
   "name": "python3"
  },
  "language_info": {
   "name": "python",
   "version": "3.7.15"
  },
  "orig_nbformat": 4
 },
 "nbformat": 4,
 "nbformat_minor": 2
}
